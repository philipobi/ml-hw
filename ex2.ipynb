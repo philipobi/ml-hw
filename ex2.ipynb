{
 "cells": [
  {
   "cell_type": "code",
   "execution_count": null,
   "id": "328df269",
   "metadata": {},
   "outputs": [],
   "source": [
    "import numpy as np\n",
    "import matplotlib.pyplot as plt"
   ]
  },
  {
   "cell_type": "code",
   "execution_count": null,
   "id": "5bec9eb2",
   "metadata": {},
   "outputs": [],
   "source": [
    "with open(\"hitters.x.csv\") as f:\n",
    "    import csv\n",
    "    X_colnames = next(csv.reader(f))\n",
    "\n",
    "X = np.loadtxt(\"hitters.x.csv\", delimiter=\",\", skiprows=1)\n",
    "(n,d) = X.shape\n",
    "\n",
    "y = np.loadtxt(\"hitters.y.csv\", skiprows=1)"
   ]
  },
  {
   "cell_type": "markdown",
   "id": "0c636438",
   "metadata": {},
   "source": [
    "1., 2."
   ]
  },
  {
   "cell_type": "code",
   "execution_count": null,
   "id": "9fa09c78",
   "metadata": {},
   "outputs": [],
   "source": [
    "X_ = np.hstack((np.ones((n,1)) ,(X - np.mean(X, axis=0)) / np.std(X, axis=0)))\n",
    "\n",
    "P = np.block([\n",
    "    [np.zeros((1, d+1))],\n",
    "    [np.zeros((d, 1)), np.eye(d)]\n",
    "])"
   ]
  },
  {
   "cell_type": "markdown",
   "id": "7ca7e19c",
   "metadata": {},
   "source": [
    "3."
   ]
  },
  {
   "cell_type": "code",
   "execution_count": null,
   "id": "8efe9698",
   "metadata": {},
   "outputs": [],
   "source": [
    "log10_l = np.linspace(-3, 7, num = 100)\n",
    "l = np.power(10, log10_l)\n",
    "\n",
    "M = (X_.T @ X_)[np.newaxis, ...] + l.reshape((-1, 1, 1)) * P[np.newaxis, ...]\n",
    "t = np.linalg.pinv(M) @ X_.T @ y"
   ]
  },
  {
   "cell_type": "code",
   "execution_count": null,
   "id": "17bac084",
   "metadata": {},
   "outputs": [],
   "source": [
    "fig, ax = plt.subplots()\n",
    "ax.scatter(\n",
    "    log10_l, np.log10(np.linalg.norm(t[:,1:], axis=-1, ord=2)), \n",
    "    s=2, label=r\"$\\log_{10}||\\hat{\\mathbf{\\theta}}||_2$\"\n",
    ")\n",
    "ax.scatter(\n",
    "    log10_l, np.log10(np.abs(t[:,0])), \n",
    "    s=2, label=r\"$\\log_{10}|\\hat{\\theta}_0|$\"\n",
    ")\n",
    "ax.set_xlabel(r\"$\\log_{10}\\lambda$\")\n",
    "ax.legend()"
   ]
  },
  {
   "cell_type": "markdown",
   "id": "88c21958",
   "metadata": {},
   "source": [
    "4."
   ]
  },
  {
   "cell_type": "code",
   "execution_count": null,
   "id": "d51be655",
   "metadata": {},
   "outputs": [],
   "source": [
    "def ridge (X_, y, l): \n",
    "    return np.linalg.pinv(X_.T @ X_ + l * P) @ X_.T @ y\n",
    "def lsq (X_, y):\n",
    "    return np.linalg.pinv(X_.T @ X_) @ X_.T @ y"
   ]
  },
  {
   "cell_type": "code",
   "execution_count": null,
   "id": "a328af9c",
   "metadata": {},
   "outputs": [],
   "source": [
    "np.abs(ridge(X_, y, 1e-10) - lsq(X_, y))"
   ]
  },
  {
   "cell_type": "code",
   "execution_count": null,
   "id": "7df894a1",
   "metadata": {},
   "outputs": [],
   "source": [
    "np.abs(ridge(X_, y, 1e10))"
   ]
  },
  {
   "cell_type": "markdown",
   "id": "7d0f0ef9",
   "metadata": {},
   "source": [
    "5."
   ]
  },
  {
   "cell_type": "code",
   "execution_count": null,
   "id": "9dd14164",
   "metadata": {},
   "outputs": [],
   "source": [
    "def make_folds(X, y, K):\n",
    "    rng = np.random.default_rng(seed=1234)\n",
    "    D = np.hstack((X_, np.reshape(y, (-1, 1))))\n",
    "    rng.shuffle(D, axis=0)\n",
    "    (n, d) = X.shape\n",
    "    subs = tuple(np.split(D[:-(n%K)], K, axis=0))\n",
    "    train_k, test_k = zip(*(\n",
    "        (np.vstack(subs[:i] + subs[i+1:]), x)\n",
    "        for i, x in enumerate(subs)\n",
    "    ))\n",
    "    train = np.stack(train_k)\n",
    "    test = np.stack(test_k)\n",
    "    \n",
    "    X_proj = np.vstack((\n",
    "        np.eye(d), \n",
    "        np.zeros((1, d)),\n",
    "    ))\n",
    "    \n",
    "    Y_proj = np.hstack((np.zeros(d), np.ones(1)))\n",
    " \n",
    "    return (\n",
    "        (train @ X_proj, train @ Y_proj),\n",
    "        (test @ X_proj, test @ Y_proj),\n",
    "    )\n",
    "\n",
    "((X_train, Y_train), (X_test, Y_test)) = make_folds(X_, y, K=5)"
   ]
  },
  {
   "cell_type": "code",
   "execution_count": null,
   "id": "d480e860",
   "metadata": {},
   "outputs": [],
   "source": [
    "M = np.einsum(\"aki,akj->aij\", X_train, X_train)[np.newaxis, ...] + (l.reshape((-1, 1, 1)) * P[np.newaxis, ...])[:, np.newaxis, ...]\n",
    "t = np.einsum(\"abik,bjk,bj->abi\", np.linalg.pinv(M), X_train, Y_train)"
   ]
  },
  {
   "cell_type": "code",
   "execution_count": null,
   "id": "785fb09c",
   "metadata": {},
   "outputs": [],
   "source": [
    "t.shape\n"
   ]
  },
  {
   "cell_type": "code",
   "execution_count": null,
   "id": "1eff599a",
   "metadata": {},
   "outputs": [],
   "source": [
    "np.array([\n",
    "    [1,2,3],\n",
    "    [4,5,6],\n",
    "    [7,8,9],\n",
    "]) @ [0,1,0]"
   ]
  },
  {
   "cell_type": "code",
   "execution_count": null,
   "id": "0f833de7",
   "metadata": {},
   "outputs": [],
   "source": [
    "np.hstack((np.zeros(5), np.ones(1)))"
   ]
  },
  {
   "cell_type": "code",
   "execution_count": null,
   "id": "76e01a3f",
   "metadata": {},
   "outputs": [],
   "source": [
    "np.ones(1)"
   ]
  },
  {
   "cell_type": "code",
   "execution_count": null,
   "id": "2f9c6058",
   "metadata": {},
   "outputs": [],
   "source": []
  }
 ],
 "metadata": {
  "language_info": {
   "name": "python"
  }
 },
 "nbformat": 4,
 "nbformat_minor": 5
}
