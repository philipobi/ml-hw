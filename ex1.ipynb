{
 "cells": [
  {
   "cell_type": "code",
   "execution_count": null,
   "id": "1f445155",
   "metadata": {},
   "outputs": [],
   "source": [
    "import numpy as np\n",
    "import matplotlib.pyplot as plt\n",
    "rng = np.random.default_rng(seed=1234)\n",
    "n = 1000"
   ]
  },
  {
   "cell_type": "code",
   "execution_count": null,
   "id": "7db257b1",
   "metadata": {},
   "outputs": [],
   "source": [
    "x = rng.uniform(0,1, size=n)\n",
    "e = rng.normal(0, 1/2, size=n)\n",
    "y = x+e\n",
    "\n",
    "a = np.dot(x,y)/np.sum(x**2)\n",
    "g = lambda x: a*x\n",
    "\n",
    "fig, ax = plt.subplots()\n",
    "ax.scatter(x, y, s=2, label=r\"$(x_i, y_i(x_i))$\", c=\"blue\")\n",
    "ax.plot(x, g(x), label=r\"$g(x)$\", c=\"red\")\n",
    "ax.set_xlabel(r\"$x$\")\n",
    "ax.set_ylabel(r\"$y$\")\n",
    "\n",
    "ax.legend() "
   ]
  },
  {
   "cell_type": "code",
   "execution_count": null,
   "id": "55a0908b",
   "metadata": {},
   "outputs": [],
   "source": [
    "x = rng.uniform(0,1, size=n)\n",
    "e = rng.normal(0, 0.1, size=n)\n",
    "y = 30*(x-0.25)**2 * (x-0.75)**2 + e\n",
    "X = np.column_stack(tuple(x**n for n in range(4+1)))\n",
    "a = np.linalg.inv(X.T @ X) @ X.T @ y\n",
    "\n",
    "p4 = lambda x: np.dot(a, [x**n for n in range(4+1)])\n",
    "\n",
    "fig, ax = plt.subplots()\n",
    "ax.scatter(x, y, s=2, label=r\"$(x_i, y_i(x_i))$\", c=\"blue\")\n",
    "xax = np.linspace(0,1)\n",
    "ax.plot(xax, p4(xax), c = \"red\", label = r\"$p_4(x)$\")\n",
    "ax.set_xlabel(r\"$x$\")\n",
    "ax.set_ylabel(r\"$y$\")\n",
    "\n",
    "ax.legend() \n"
   ]
  }
 ],
 "metadata": {
  "language_info": {
   "name": "python"
  }
 },
 "nbformat": 4,
 "nbformat_minor": 5
}
